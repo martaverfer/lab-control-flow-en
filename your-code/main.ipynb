{
 "cells": [
  {
   "cell_type": "markdown",
   "metadata": {},
   "source": [
    "## Words"
   ]
  },
  {
   "cell_type": "code",
   "execution_count": 2,
   "metadata": {},
   "outputs": [],
   "source": [
    "words = ['play', 'filling', 'bar', 'theatre', 'easygoing', 'date', 'lead', 'that', 'story',  'island']"
   ]
  },
  {
   "cell_type": "markdown",
   "metadata": {},
   "source": [
    "**Print every word in upper case**"
   ]
  },
  {
   "cell_type": "code",
   "execution_count": null,
   "metadata": {},
   "outputs": [
    {
     "name": "stdout",
     "output_type": "stream",
     "text": [
      "PLAY\n",
      "FILLING\n",
      "BAR\n",
      "THEATRE\n",
      "EASYGOING\n",
      "DATE\n",
      "LEAD\n",
      "THAT\n",
      "STORY\n",
      "ISLAND\n"
     ]
    }
   ],
   "source": [
    "# your code here\n",
    "# Create a loop an print every word in upper case with uppper method\n",
    "for word in words:\n",
    "    print(word.upper())"
   ]
  },
  {
   "cell_type": "markdown",
   "metadata": {},
   "source": [
    "**Create a new list containing only words with 5 or more letters**"
   ]
  },
  {
   "cell_type": "code",
   "execution_count": 11,
   "metadata": {},
   "outputs": [
    {
     "data": {
      "text/plain": [
       "['filling', 'theatre', 'easygoing', 'story', 'island']"
      ]
     },
     "execution_count": 11,
     "metadata": {},
     "output_type": "execute_result"
    }
   ],
   "source": [
    "# your code here\n",
    "new_words = []\n",
    "\n",
    "# For loop with an if condition to only add to the new list the owrds that meet the condtion\n",
    "for word in words:\n",
    "    if len(word) >= 5:\n",
    "        new_words.append(word)\n",
    "\n",
    "new_words"
   ]
  },
  {
   "cell_type": "markdown",
   "metadata": {},
   "source": [
    "**Print the first word starting with \"t\"**"
   ]
  },
  {
   "cell_type": "code",
   "execution_count": 4,
   "metadata": {},
   "outputs": [
    {
     "name": "stdout",
     "output_type": "stream",
     "text": [
      "theatre\n"
     ]
    }
   ],
   "source": [
    "# your code here\n",
    "i=0\n",
    "\n",
    "for word in words:\n",
    "    if word[0] == 't':\n",
    "# Using a while loop in order to only print the first one. It will only enter the while loop once, then only printing the first one.\n",
    "        while i < 1:\n",
    "            print(word)  \n",
    "            i += 1"
   ]
  },
  {
   "cell_type": "markdown",
   "metadata": {},
   "source": [
    "## Numbers"
   ]
  },
  {
   "cell_type": "markdown",
   "metadata": {},
   "source": [
    "**Create a list containing the square of every number from 1 to 10**"
   ]
  },
  {
   "cell_type": "code",
   "execution_count": null,
   "metadata": {},
   "outputs": [
    {
     "data": {
      "text/plain": [
       "[1, 4, 9, 16, 25, 36, 49, 64, 81, 100]"
      ]
     },
     "execution_count": 10,
     "metadata": {},
     "output_type": "execute_result"
    }
   ],
   "source": [
    "# your code here\n",
    "square_list= []\n",
    "for i in range(1,11):\n",
    "    square_list.append(i**2)\n"
   ]
  },
  {
   "cell_type": "code",
   "execution_count": null,
   "metadata": {},
   "outputs": [],
   "source": [
    "square_list"
   ]
  },
  {
   "cell_type": "markdown",
   "metadata": {},
   "source": [
    "**Print a list containing the square of every odd number from 1 to 10**"
   ]
  },
  {
   "cell_type": "code",
   "execution_count": 15,
   "metadata": {},
   "outputs": [
    {
     "name": "stdout",
     "output_type": "stream",
     "text": [
      "First way of doing it [1, 9, 25, 49, 81]\n",
      "Second way of doing it [1, 9, 25, 49, 81]\n"
     ]
    }
   ],
   "source": [
    "# your code here\n",
    "# One way of doing it would be to use the range function. In this case creates a sequence on numbers from 1 to 10 with an increment of 2, which outpubt will be a only odd numbers\n",
    "square_list_odd= []\n",
    "for i in range(1,11, 2):\n",
    "    square_list_odd.append(i**2)\n",
    "print(f\"First way of doing it {square_list_odd}\")\n",
    "\n",
    "# Another way of doing it is with an if inside the for loop. We will have a sequence of number from 1 to 10, the if condition will only output the numbers that meet the conditions (the odd ones)\n",
    "square_list_odd1= []\n",
    "for i in range(1,11):\n",
    "    if i % 2 != 0: # The odd numbers will have a reminder so i %2 not equal to zero\n",
    "        square_list_odd1.append(i**2)\n",
    "print(f\"Second way of doing it {square_list_odd1}\")"
   ]
  },
  {
   "cell_type": "markdown",
   "metadata": {},
   "source": [
    "**Create a list with the squares of all multiples of 8 below 1000**"
   ]
  },
  {
   "cell_type": "code",
   "execution_count": null,
   "metadata": {},
   "outputs": [
    {
     "name": "stdout",
     "output_type": "stream",
     "text": [
      "[64, 256, 576, 1024, 1600, 2304, 3136, 4096, 5184, 6400, 7744, 9216, 10816, 12544, 14400, 16384, 18496, 20736, 23104, 25600, 28224, 30976, 33856, 36864, 40000, 43264, 46656, 50176, 53824, 57600, 61504, 65536, 69696, 73984, 78400, 82944, 87616, 92416, 97344, 102400, 107584, 112896, 118336, 123904, 129600, 135424, 141376, 147456, 153664, 160000, 166464, 173056, 179776, 186624, 193600, 200704, 207936, 215296, 222784, 230400, 238144, 246016, 254016, 262144, 270400, 278784, 287296, 295936, 304704, 313600, 322624, 331776, 341056, 350464, 360000, 369664, 379456, 389376, 399424, 409600, 419904, 430336, 440896, 451584, 462400, 473344, 484416, 495616, 506944, 518400, 529984, 541696, 553536, 565504, 577600, 589824, 602176, 614656, 627264, 640000, 652864, 665856, 678976, 692224, 705600, 719104, 732736, 746496, 760384, 774400, 788544, 802816, 817216, 831744, 846400, 861184, 876096, 891136, 906304, 921600, 937024, 952576, 968256, 984064, 1000000]\n",
      "There are 125 numbers that are multiple of 8 below 1000\n"
     ]
    }
   ],
   "source": [
    "# your code here\n",
    "square_list_multiple8= []\n",
    "# Set the range between 1 and 1001 (1 to 1000)\n",
    "for i in range(1,1001):\n",
    "    # if statement to only take the numbers form that range that are multiple of 8\n",
    "    if i % 8 == 0:\n",
    "        # Do the square of the multiple of 8 and add it to the list\n",
    "        square_list_multiple8.append(i**2)\n",
    "print(square_list_multiple8)\n",
    "list_num= len(square_list_multiple8)\n",
    "print(f\"There are {list_num} numbers that are multiple of 8 below 1000\")"
   ]
  },
  {
   "cell_type": "markdown",
   "metadata": {},
   "source": [
    "## People"
   ]
  },
  {
   "cell_type": "code",
   "execution_count": 2,
   "metadata": {},
   "outputs": [],
   "source": [
    "people = [\n",
    "    {\n",
    "        \"name\": \"Juan\",\n",
    "        \"age\": 34,\n",
    "        \"n_kids\": 2\n",
    "    },\n",
    "    {\n",
    "        \"name\": \"Pepe\",\n",
    "        \"age\": 27,\n",
    "        \"n_kids\": 0\n",
    "    },\n",
    "    {\n",
    "        \"name\": \"Sonia\",\n",
    "        \"age\": 41,\n",
    "        \"n_kids\": 1\n",
    "    },\n",
    "    {\n",
    "        \"name\": \"Lucía\",\n",
    "        \"age\": 22,\n",
    "        \"n_kids\": 2\n",
    "    },\n",
    "    {\n",
    "        \"name\": \"Leo\",\n",
    "        \"age\": 55,\n",
    "        \"n_kids\": 5\n",
    "    }\n",
    "]"
   ]
  },
  {
   "cell_type": "markdown",
   "metadata": {},
   "source": [
    "**How many people are there?**"
   ]
  },
  {
   "cell_type": "code",
   "execution_count": null,
   "metadata": {},
   "outputs": [
    {
     "name": "stdout",
     "output_type": "stream",
     "text": [
      "5\n",
      "The total number of people in the list is 5\n"
     ]
    }
   ],
   "source": [
    "# your code here\n",
    "# We can check the lenght of the list if we consider that each entry belongs to a person\n",
    "print(len(people))\n",
    "\n",
    "# But we can also do it with a loop and a counter\n",
    "count = 0\n",
    "\n",
    "for person in people:\n",
    "    count += 1\n",
    "  \n",
    "print(f\"The total number of people in the list is {count}\")\n",
    "    "
   ]
  },
  {
   "cell_type": "markdown",
   "metadata": {},
   "source": [
    "**How many people have kids**?"
   ]
  },
  {
   "cell_type": "code",
   "execution_count": 31,
   "metadata": {},
   "outputs": [
    {
     "name": "stdout",
     "output_type": "stream",
     "text": [
      "The number of people in the list that have kids is 4\n"
     ]
    }
   ],
   "source": [
    "# your code here\n",
    "# We can reuse the previous code for \n",
    "count = 0\n",
    "\n",
    "for person in people:\n",
    "    if person[\"n_kids\"] > 0:\n",
    "        count += 1\n",
    "  \n",
    "print(f\"The number of people in the list that have kids is {count}\")"
   ]
  },
  {
   "cell_type": "markdown",
   "metadata": {},
   "source": [
    "**How many kids do they have in total?**"
   ]
  },
  {
   "cell_type": "code",
   "execution_count": 4,
   "metadata": {},
   "outputs": [
    {
     "name": "stdout",
     "output_type": "stream",
     "text": [
      "The total number of kids is 10\n"
     ]
    }
   ],
   "source": [
    "# your code here\n",
    "# I do a for loop for getting each element of people\n",
    "# Then checked for the value I want to get wich is n_kids\n",
    "# I create a variable that stores the values of n_kids and adds them up to finaly obtain the total number of kids in the list\n",
    "\n",
    "total_kids = 0\n",
    "for person in people:\n",
    "    total_kids= person[\"n_kids\"]\n",
    "    total_kids += total_kids\n",
    "  \n",
    "print(f\"The total number of kids is {total_kids}\")"
   ]
  },
  {
   "cell_type": "markdown",
   "metadata": {},
   "source": [
    "**In a year's time, names ending with \"a\" will have an extra kid. Create a list of dictionaries with people's info in a year's time**"
   ]
  },
  {
   "cell_type": "code",
   "execution_count": 19,
   "metadata": {},
   "outputs": [
    {
     "data": {
      "text/plain": [
       "[{'name': 'Juan', 'age': 34, 'n_kids': 2},\n",
       " {'name': 'Pepe', 'age': 27, 'n_kids': 0},\n",
       " {'name': 'Sonia', 'age': 41, 'n_kids': 2},\n",
       " {'name': 'Lucía', 'age': 22, 'n_kids': 3},\n",
       " {'name': 'Leo', 'age': 55, 'n_kids': 5}]"
      ]
     },
     "execution_count": 19,
     "metadata": {},
     "output_type": "execute_result"
    }
   ],
   "source": [
    "# your code here\n",
    "people_in_a_year = []\n",
    "\n",
    "# First we create a copy of people under a new list called people_in_a_year\n",
    "for person in people:\n",
    "    people_in_a_year.append(person)\n",
    "\n",
    "# Then I update the value of the number of children (+1) for all the people which name ends with an a\n",
    "for person_in_a_year in people_in_a_year:\n",
    "    if person_in_a_year[\"name\"][-1] == 'a':\n",
    "        person_in_a_year[\"n_kids\"] +=1\n",
    "    \n",
    "people_in_a_year\n",
    "\n"
   ]
  },
  {
   "cell_type": "code",
   "execution_count": null,
   "metadata": {},
   "outputs": [],
   "source": []
  }
 ],
 "metadata": {
  "kernelspec": {
   "display_name": "base",
   "language": "python",
   "name": "python3"
  },
  "language_info": {
   "codemirror_mode": {
    "name": "ipython",
    "version": 3
   },
   "file_extension": ".py",
   "mimetype": "text/x-python",
   "name": "python",
   "nbconvert_exporter": "python",
   "pygments_lexer": "ipython3",
   "version": "3.12.7"
  },
  "toc": {
   "base_numbering": 1,
   "nav_menu": {},
   "number_sections": false,
   "sideBar": true,
   "skip_h1_title": false,
   "title_cell": "Table of Contents",
   "title_sidebar": "Contents",
   "toc_cell": false,
   "toc_position": {},
   "toc_section_display": true,
   "toc_window_display": true
  },
  "varInspector": {
   "cols": {
    "lenName": 16,
    "lenType": 16,
    "lenVar": 40
   },
   "kernels_config": {
    "python": {
     "delete_cmd_postfix": "",
     "delete_cmd_prefix": "del ",
     "library": "var_list.py",
     "varRefreshCmd": "print(var_dic_list())"
    },
    "r": {
     "delete_cmd_postfix": ") ",
     "delete_cmd_prefix": "rm(",
     "library": "var_list.r",
     "varRefreshCmd": "cat(var_dic_list()) "
    }
   },
   "types_to_exclude": [
    "module",
    "function",
    "builtin_function_or_method",
    "instance",
    "_Feature"
   ],
   "window_display": false
  }
 },
 "nbformat": 4,
 "nbformat_minor": 4
}
